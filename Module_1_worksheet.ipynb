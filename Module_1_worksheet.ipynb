{
  "nbformat": 4,
  "nbformat_minor": 0,
  "metadata": {
    "colab": {
      "provenance": []
    },
    "kernelspec": {
      "name": "python3",
      "display_name": "Python 3"
    },
    "language_info": {
      "name": "python"
    }
  },
  "cells": [
    {
      "cell_type": "markdown",
      "source": [
        "# Vectors using Numpy"
      ],
      "metadata": {
        "id": "MkoDbq-9W6Fd"
      }
    },
    {
      "cell_type": "markdown",
      "source": [
        "#### **What is Numpy?**\n",
        "NumPy is the fundamental package for scientific computing in Python. It is a Python library that provides a multidimensional array object, various derived objects (such as masked arrays and matrices), and an assortment of routines for fast operations on arrays, including mathematical, logical, shape manipulation, sorting, selecting, I/O, discrete Fourier transforms, basic linear algebra, basic statistical operations, random simulation and much more.\n",
        "\n",
        "There are several important differences between NumPy arrays and the standard Python sequences(lists):\n",
        "\n",
        "*   NumPy arrays have a fixed size at creation, unlike Python lists (which can grow dynamically). Changing the size of an ndarray will create a new array and delete the original.\n",
        "*   The elements in a NumPy array are all required to be of the same data type, and thus will be the same size in memory. The exception: one can have arrays of (Python, including NumPy) objects, thereby allowing for arrays of different sized elements.\n",
        "*    NumPy arrays facilitate advanced mathematical and other types of operations on large numbers of data. Typically, such operations are executed more efficiently and with less code than is possible using Python’s built-in sequences.\n",
        "*    A growing plethora of scientific and mathematical Python-based packages are using NumPy arrays; though these typically support Python-sequence input, they convert such input to NumPy arrays prior to processing, and they often output NumPy arrays. Numpy is preferred due to its performance in computation.\n",
        "\n"
      ],
      "metadata": {
        "id": "ExU43HLnXBiU"
      }
    },
    {
      "cell_type": "code",
      "source": [
        "# Lets Import Numpy\n",
        "import numpy as np"
      ],
      "metadata": {
        "id": "3jwUcdXDXqKQ"
      },
      "execution_count": null,
      "outputs": []
    },
    {
      "cell_type": "code",
      "source": [
        "# TASK: Define Numpy arrays with names: n1, n2\n",
        "# Reference: https://numpy.org/doc/stable/user/quickstart.html#array-creation\n",
        "\n",
        "# Your Code:\n",
        "\n",
        "\n",
        "\n",
        "\n",
        "print(n1)\n",
        "print(n2)"
      ],
      "metadata": {
        "id": "qnb4q6weYHJs"
      },
      "execution_count": null,
      "outputs": []
    },
    {
      "cell_type": "code",
      "source": [
        "# TASK: Redefine n1 as a vector/array with the values 22,33,44 and order of the vector as 1x3\n",
        "\n",
        "# Your Code:\n",
        "\n",
        "\n",
        "\n",
        "\n",
        "print(n1)"
      ],
      "metadata": {
        "id": "X9QwNVT2Yd8I"
      },
      "execution_count": null,
      "outputs": []
    },
    {
      "cell_type": "markdown",
      "source": [
        "#### Addition\n",
        "\n",
        "Adding numpy vectors is as simple as performing regular addition in Python."
      ],
      "metadata": {
        "id": "3dHQ9ItHaQjk"
      }
    },
    {
      "cell_type": "code",
      "source": [
        "# TASK: Add vector [2, 2, 2] with n1 from earlier\n",
        "\n",
        "# Your Code:\n",
        "\n",
        "\n",
        "\n",
        "\n",
        "# Expected output: [24, 35, 46]"
      ],
      "metadata": {
        "id": "WKU9pUMpY2t5"
      },
      "execution_count": null,
      "outputs": []
    },
    {
      "cell_type": "markdown",
      "source": [
        "#### Subtraction\n",
        "\n",
        "Subtracting numpy vectors is also as simple as performing regular subtraction in Python"
      ],
      "metadata": {
        "id": "qGmma2jfbEzr"
      }
    },
    {
      "cell_type": "code",
      "source": [
        "# TASK: Subtract vector [2, 3, 4] with n1 from earlier\n",
        "\n",
        "# Your Code:\n",
        "\n",
        "\n",
        "\n",
        "\n",
        "# Expected output: [20, 30, 40]"
      ],
      "metadata": {
        "id": "_Pmm06fpZEka"
      },
      "execution_count": null,
      "outputs": []
    },
    {
      "cell_type": "markdown",
      "source": [
        "#### Scalar Multiplication/ Element-wise multiplication\n",
        "\n",
        "This is also very easy to perform. Regular Python is enough or numpy also comes with functions to perform the same\n",
        "\n",
        "https://numpy.org/doc/stable/reference/generated/numpy.multiply.html#numpy-multiply\n"
      ],
      "metadata": {
        "id": "YKJ31IVsbcYv"
      }
    },
    {
      "cell_type": "code",
      "source": [
        "# TASK: Multiply n1 with 25\n",
        "\n",
        "# Your Code:\n",
        "\n",
        "\n",
        "\n",
        "\n",
        "# Expected output: [550,  825, 1100]"
      ],
      "metadata": {
        "id": "jVcu1QS8bZHu"
      },
      "execution_count": null,
      "outputs": []
    },
    {
      "cell_type": "code",
      "source": [
        "# TASK: perform element-wise multiplication of n1 and [11, 12, 13]. Use numpy's multiply function\n",
        "\n",
        "# Your Code:\n",
        "\n",
        "\n",
        "\n",
        "\n",
        "# Expected output: [242, 396, 572]"
      ],
      "metadata": {
        "id": "1-UuqETKbT-I"
      },
      "execution_count": null,
      "outputs": []
    },
    {
      "cell_type": "markdown",
      "source": [
        "#### Vector Multiplication\n",
        "\n",
        "Vector multiplication, or also called dot product of vectors/matrices. Numpy has functions to perform the same\n",
        "\n",
        "https://numpy.org/doc/stable/reference/generated/numpy.dot.html#numpy-dot\n",
        "https://numpy.org/doc/stable/reference/generated/numpy.reshape.html#numpy-reshape\n",
        "\n",
        "note: numpy functions also carry additional features for certain scenarios of inputs. The reference mentions all of them, we will be looking only at our required case here."
      ],
      "metadata": {
        "id": "jU9xLGMerO9c"
      }
    },
    {
      "cell_type": "code",
      "source": [
        "# TASK: perform vector multiplication of n1 (use numpy reshape:- set order as 3 x 1) and a vector of only 3's, and of order/dimension 1 x 4\n",
        "\n",
        "# Your Code:\n",
        "\n",
        "\n",
        "\n",
        "\n",
        "\n",
        "# Expected Output:\n",
        "# [[ 66,  66,  66,  66],\n",
        "#  [ 99,  99,  99,  99],\n",
        "#  [132, 132, 132, 132]]"
      ],
      "metadata": {
        "id": "7qptpnxFcM4e"
      },
      "execution_count": null,
      "outputs": []
    },
    {
      "cell_type": "code",
      "source": [
        "# TASK: perform vector multiplication of n1 and transpose of n1. Use numpy techniques for transpose\n",
        "\n",
        "# Your Code:\n",
        "\n",
        "\n",
        "\n",
        "\n",
        "# Expected output: 3059"
      ],
      "metadata": {
        "id": "lpnppkLqs4Oq"
      },
      "execution_count": null,
      "outputs": []
    },
    {
      "cell_type": "code",
      "source": [
        "# TASK: Initialize a vector (v1) with prime numbers 1 to 23, with order 3x3. Initialize a vector (v2) as inverse of v1.\n",
        "# Perform vector multiplication of both and get identityu matrix. Use numpy rounding methods if needed\n",
        "# https://numpy.org/doc/stable/reference/generated/numpy.linalg.inv.html#numpy-linalg-inv\n",
        "# https://numpy.org/doc/stable/reference/generated/numpy.round.html#numpy-round\n",
        "\n",
        "# Your Code:\n",
        "\n",
        "\n",
        "\n",
        "\n",
        "\n",
        "# Expected output (with or without signs both is ok):\n",
        "# [[ 1., -0.,  0.],\n",
        "#  [ 0.,  1.,  0.],\n",
        "#  [-0., -0.,  1.]]"
      ],
      "metadata": {
        "id": "gkjYZygrs-Va"
      },
      "execution_count": null,
      "outputs": []
    },
    {
      "cell_type": "markdown",
      "source": [
        "#### Go Through Documentation\n",
        "\n",
        "https://numpy.org/doc/stable/user/quickstart.html#the-basics"
      ],
      "metadata": {
        "id": "393LNCAH3Jqd"
      }
    },
    {
      "cell_type": "code",
      "source": [
        "# TASK: Study and perform 3 different universal functions on v1\n",
        "\n",
        "\n",
        "\n",
        "\n",
        "\n"
      ],
      "metadata": {
        "id": "hasQQa25tMt3"
      },
      "execution_count": null,
      "outputs": []
    }
  ]
}