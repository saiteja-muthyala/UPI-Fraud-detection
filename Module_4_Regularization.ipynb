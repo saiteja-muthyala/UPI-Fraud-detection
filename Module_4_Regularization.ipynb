{
  "cells": [
    {
      "cell_type": "markdown",
      "id": "NrC2wCTOBTej",
      "metadata": {
        "id": "NrC2wCTOBTej",
        "pycharm": {
          "name": "#%% md\n"
        }
      },
      "source": [
        "# Module 4 - Regularized Cost and Gradient\n",
        "In this assignmnent, you will:\n",
        "- extend the previous linear and logistic cost functions with a regularization term."
      ]
    },
    {
      "cell_type": "code",
      "execution_count": null,
      "id": "134af620",
      "metadata": {},
      "outputs": [
        {
          "ename": "",
          "evalue": "",
          "output_type": "error",
          "traceback": [
            "\u001b[1;31mRunning cells with 'Python 3.12.6' requires the ipykernel package.\n",
            "\u001b[1;31mInstall 'ipykernel' into the Python environment. \n",
            "\u001b[1;31mCommand: 'c:/Users/tejas/AppData/Local/Programs/Python/Python312/python.exe -m pip install ipykernel -U --user --force-reinstall'"
          ]
        }
      ],
      "source": [
        "!pip install numpy==1.23.5"
      ]
    },
    {
      "cell_type": "code",
      "execution_count": null,
      "id": "LFrNdgMwBTep",
      "metadata": {
        "id": "LFrNdgMwBTep",
        "pycharm": {
          "name": "#%%\n"
        }
      },
      "outputs": [],
      "source": [
        "import numpy as np\n",
        "import matplotlib.pyplot as plt\n",
        "np.set_printoptions(precision=8)"
      ]
    },
    {
      "cell_type": "code",
      "execution_count": null,
      "id": "oXrqUB_gcp9r",
      "metadata": {
        "id": "oXrqUB_gcp9r"
      },
      "outputs": [],
      "source": [
        "# Sigmoid function for later use\n",
        "def sigmoid(z):\n",
        "    \"\"\"\n",
        "    Compute the sigmoid of z\n",
        "\n",
        "    Parameters\n",
        "    ----------\n",
        "    z : array_like\n",
        "        A scalar or numpy array of any size.\n",
        "\n",
        "    Returns\n",
        "    -------\n",
        "     g : array_like\n",
        "         sigmoid(z)\n",
        "    \"\"\"\n",
        "    z = np.clip( z, -500, 500 )           # protect against overflow\n",
        "    g = 1.0/(1.0+np.exp(-z))\n",
        "\n",
        "    return g"
      ]
    },
    {
      "cell_type": "markdown",
      "id": "lK3JUP2bBTer",
      "metadata": {
        "id": "lK3JUP2bBTer",
        "pycharm": {
          "name": "#%% md\n"
        }
      },
      "source": [
        "# Adding regularization\n",
        " Note:\n",
        "- Cost\n",
        "    - The cost functions differ significantly between linear and logistic regression, but adding regularization to the equations is the same.\n",
        "- Gradient\n",
        "    - The gradient functions for linear and logistic regression are very similar. They differ only in the implementation of h(x)"
      ]
    },
    {
      "cell_type": "markdown",
      "id": "sPwf8vOaBTes",
      "metadata": {
        "id": "sPwf8vOaBTes",
        "pycharm": {
          "name": "#%% md\n"
        }
      },
      "source": [
        "## Cost functions with regularization\n",
        "### Cost function for regularized linear regression\n",
        "\n",
        "The equation for the cost function regularized linear regression is:\n",
        "$$J(\\mathbf{w},b) = \\frac{1}{2m} \\sum\\limits_{i = 0}^{m-1} (h(\\mathbf{x}^{(i)}) - y^{(i)})^2  + \\frac{\\lambda}{2m}  \\sum_{j=0}^{n-1} w_j^2 \\tag{1}$$\n",
        "where:\n",
        "$$ h(\\mathbf{x}^{(i)}) = \\mathbf{w} \\cdot \\mathbf{x}^{(i)} + b  \\tag{2} $$\n",
        "\n",
        "\n",
        "Compare this to the cost function without regularization, which is of the form:\n",
        "\n",
        "$$J(\\mathbf{w},b) = \\frac{1}{2m} \\sum\\limits_{i = 0}^{m-1} (h(\\mathbf{x}^{(i)}) - y^{(i)})^2 $$\n",
        "\n",
        "The difference is the regularization term,  <span style=\"color:blue\">\n",
        "    $\\frac{\\lambda}{2m}  \\sum_{j=0}^{n-1} w_j^2$ </span>\n",
        "    \n",
        "Including this term encourages gradient descent to minimize the size of the parameters. Note, in this example, the parameter $b$(or $θ_0$) is not regularized. This is standard practice.\n",
        "\n",
        "Complete the below Regularization implementation"
      ]
    },
    {
      "cell_type": "code",
      "execution_count": null,
      "id": "sVNFx6_GBTet",
      "metadata": {
        "id": "sVNFx6_GBTet",
        "pycharm": {
          "name": "#%%\n"
        }
      },
      "outputs": [],
      "source": [
        "def compute_cost_linear_reg(X, y, w, b, lambda_ = 1):\n",
        "    \"\"\"\n",
        "    Computes the cost over all examples\n",
        "    Args:\n",
        "      X (ndarray (m,n): Data, m examples with n features\n",
        "      y (ndarray (m,)): target values\n",
        "      w (ndarray (n,)): model parameters\n",
        "      b (scalar)      : model parameter\n",
        "      lambda_ (scalar): Controls amount of regularization\n",
        "    Returns:\n",
        "      total_cost (scalar):  cost\n",
        "    \"\"\"\n",
        "\n",
        "    m  = X.shape[0]\n",
        "    n  = len(w)\n",
        "    cost = 0.\n",
        "    for i in range(m):\n",
        "        hx = np.dot(X[i], w) + b\n",
        "        cost = cost + (hx - y[i])**2\n",
        "    cost = cost / (2 * m)\n",
        "\n",
        "    reg_cost = 0\n",
        "    for j in range(n):\n",
        "      ###############################\n",
        "      # Compute and update(summation) the reg_cost for every parameter/weight in w\n",
        "\n",
        "\n",
        "\n",
        "    ###############################\n",
        "    # Update reg_cost according to lambda. Lambda controls the amount of regularization to apply\n",
        "\n",
        "\n",
        "\n",
        "\n",
        "    total_cost = cost + reg_cost\n",
        "    return total_cost"
      ]
    },
    {
      "cell_type": "markdown",
      "id": "l1iHY5nxBTev",
      "metadata": {
        "id": "l1iHY5nxBTev",
        "pycharm": {
          "name": "#%% md\n"
        }
      },
      "source": [
        "Run the cell below to see it in action."
      ]
    },
    {
      "cell_type": "code",
      "execution_count": null,
      "id": "Sq3D6r80BTev",
      "metadata": {
        "colab": {
          "base_uri": "https://localhost:8080/"
        },
        "id": "Sq3D6r80BTev",
        "outputId": "383d76e7-c39e-4393-9d3d-0447816066ed",
        "pycharm": {
          "name": "#%%\n"
        },
        "tags": []
      },
      "outputs": [
        {
          "name": "stdout",
          "output_type": "stream",
          "text": [
            "Regularized cost: 0.07917239320214277\n"
          ]
        }
      ],
      "source": [
        "np.random.seed(1)\n",
        "X_tmp = np.random.rand(5,6)\n",
        "y_tmp = np.array([0,1,0,1,0])\n",
        "w_tmp = np.random.rand(X_tmp.shape[1]).reshape(-1,)-0.5\n",
        "b_tmp = 0.5\n",
        "lambda_tmp = 0.7\n",
        "cost_tmp = compute_cost_linear_reg(X_tmp, y_tmp, w_tmp, b_tmp, lambda_tmp)\n",
        "\n",
        "print(\"Regularized cost:\", cost_tmp)"
      ]
    },
    {
      "cell_type": "markdown",
      "id": "lpTPEV9oBTex",
      "metadata": {
        "id": "lpTPEV9oBTex",
        "pycharm": {
          "name": "#%% md\n"
        }
      },
      "source": [
        "**Expected Output**:\n",
        "<table>\n",
        "  <tr>\n",
        "    <td> <b>Regularized cost: </b> 0.07917239320214275 </td>\n",
        "  </tr>\n",
        "</table>"
      ]
    },
    {
      "cell_type": "markdown",
      "id": "ACHD4smEBTey",
      "metadata": {
        "id": "ACHD4smEBTey",
        "pycharm": {
          "name": "#%% md\n"
        }
      },
      "source": [
        "### Cost function for regularized logistic regression\n",
        "For regularized **logistic** regression, the cost function is of the form\n",
        "$$J(\\mathbf{w},b) = \\frac{1}{m}  \\sum_{i=0}^{m-1} \\left[ -y^{(i)} \\log\\left(h\\left( \\mathbf{x}^{(i)} \\right) \\right) - \\left( 1 - y^{(i)}\\right) \\log \\left( 1 - h\\left( \\mathbf{x}^{(i)} \\right) \\right) \\right] + \\frac{\\lambda}{2m}  \\sum_{j=0}^{n-1} w_j^2 \\tag{3}$$\n",
        "where:\n",
        "$$ h(\\mathbf{x}^{(i)}) = sigmoid(\\mathbf{w} \\cdot \\mathbf{x}^{(i)} + b)  \\tag{4} $$\n",
        "\n",
        "Compare this to the cost function without regularization:\n",
        "\n",
        "$$ J(\\mathbf{w},b) = \\frac{1}{m}\\sum_{i=0}^{m-1} \\left[ (-y^{(i)} \\log\\left(h\\left( \\mathbf{x}^{(i)} \\right) \\right) - \\left( 1 - y^{(i)}\\right) \\log \\left( 1 - h\\left( \\mathbf{x}^{(i)} \\right) \\right)\\right] $$\n",
        "\n",
        "As was the case in linear regression above, the difference is the regularization term, which is    <span style=\"color:blue\">\n",
        "    $\\frac{\\lambda}{2m}  \\sum_{j=0}^{n-1} w_j^2$ </span>\n",
        "\n",
        "Including this term encourages gradient descent to minimize the size of the parameters. Note, in this example, the parameter $b$(or $θ_0$) is not regularized. This is standard practice."
      ]
    },
    {
      "cell_type": "code",
      "execution_count": null,
      "id": "srQ9WXsuBTey",
      "metadata": {
        "id": "srQ9WXsuBTey",
        "pycharm": {
          "name": "#%%\n"
        }
      },
      "outputs": [],
      "source": [
        "def compute_cost_logistic_reg(X, y, w, b, lambda_ = 1):\n",
        "    \"\"\"\n",
        "    Computes the cost over all examples\n",
        "    Args:\n",
        "    Args:\n",
        "      X (ndarray (m,n): Data, m examples with n features\n",
        "      y (ndarray (m,)): target values\n",
        "      w (ndarray (n,)): model parameters\n",
        "      b (scalar)      : model parameter\n",
        "      lambda_ (scalar): Controls amount of regularization\n",
        "    Returns:\n",
        "      total_cost (scalar):  cost\n",
        "    \"\"\"\n",
        "\n",
        "    m,n  = X.shape\n",
        "    cost = 0.\n",
        "    for i in range(m):\n",
        "        ###############################\n",
        "        # implement hx and compute cost.\n",
        "        # hx = sigmoid(zx), where zx = wX + b\n",
        "\n",
        "\n",
        "    cost = cost/m\n",
        "\n",
        "    reg_cost = 0\n",
        "    for j in range(n):\n",
        "        ###############################\n",
        "        # Compute and update(summation) the reg_cost for every parameter/weight in w\n",
        "\n",
        "\n",
        "\n",
        "    ###############################\n",
        "    # Update reg_cost according to lambda. Lambda controls the amount of regularization to apply\n",
        "\n",
        "    total_cost = cost + reg_cost\n",
        "    return total_cost"
      ]
    },
    {
      "cell_type": "markdown",
      "id": "20tm7tR3BTez",
      "metadata": {
        "id": "20tm7tR3BTez",
        "pycharm": {
          "name": "#%% md\n"
        }
      },
      "source": [
        "Run the cell below to see it in action.\n"
      ]
    },
    {
      "cell_type": "code",
      "execution_count": null,
      "id": "HzJCuFsHBTez",
      "metadata": {
        "colab": {
          "base_uri": "https://localhost:8080/"
        },
        "id": "HzJCuFsHBTez",
        "outputId": "9a76f75c-5ade-492d-821e-fff298fa0a24",
        "pycharm": {
          "name": "#%%\n"
        },
        "tags": []
      },
      "outputs": [
        {
          "name": "stdout",
          "output_type": "stream",
          "text": [
            "Regularized cost: 0.6850849138741673\n"
          ]
        }
      ],
      "source": [
        "np.random.seed(1)\n",
        "X_tmp = np.random.rand(5,6)\n",
        "y_tmp = np.array([0,1,0,1,0])\n",
        "w_tmp = np.random.rand(X_tmp.shape[1]).reshape(-1,)-0.5\n",
        "b_tmp = 0.5\n",
        "lambda_tmp = 0.7\n",
        "cost_tmp = compute_cost_logistic_reg(X_tmp, y_tmp, w_tmp, b_tmp, lambda_tmp)\n",
        "\n",
        "print(\"Regularized cost:\", cost_tmp)"
      ]
    },
    {
      "cell_type": "markdown",
      "id": "mAbs9fRTBTez",
      "metadata": {
        "id": "mAbs9fRTBTez",
        "pycharm": {
          "name": "#%% md\n"
        }
      },
      "source": [
        "**Expected Output**:\n",
        "<table>\n",
        "  <tr>\n",
        "    <td> <b>Regularized cost: </b> 0.6850849138741673 </td>\n",
        "  </tr>\n",
        "</table>"
      ]
    },
    {
      "cell_type": "markdown",
      "id": "RFB9BFFYBTe0",
      "metadata": {
        "id": "RFB9BFFYBTe0",
        "pycharm": {
          "name": "#%% md\n"
        }
      },
      "source": [
        "## Gradient descent with regularization\n",
        "The basic algorithm for running gradient descent does not change with regularization, it is:\n",
        "$$\\begin{align*}\n",
        "&\\text{repeat until convergence:} \\; \\lbrace \\\\\n",
        "&  \\; \\; \\;w_j = w_j -  \\alpha \\frac{\\partial J(\\mathbf{w},b)}{\\partial w_j} \\tag{1}  \\; & \\text{for j := 0..n-1} \\\\\n",
        "&  \\; \\; \\;  \\; \\;b = b -  \\alpha \\frac{\\partial J(\\mathbf{w},b)}{\\partial b} \\\\\n",
        "&\\rbrace\n",
        "\\end{align*}$$\n",
        "Where each iteration performs simultaneous updates on $w_j$ for all $j$.\n",
        "\n",
        "What changes with regularization is computing the gradients."
      ]
    },
    {
      "cell_type": "markdown",
      "id": "MkyHGDfkBTe0",
      "metadata": {
        "id": "MkyHGDfkBTe0",
        "pycharm": {
          "name": "#%% md\n"
        }
      },
      "source": [
        "### Computing the Gradient with regularization (both linear/logistic)\n",
        "The gradient calculation for both linear and logistic regression are nearly identical, differing only in computation of $h(x)$.\n",
        "$$\\begin{align*}\n",
        "\\frac{\\partial J(\\mathbf{w},b)}{\\partial w_j}  &= \\frac{1}{m} \\sum\\limits_{i = 0}^{m-1} (h(\\mathbf{x}^{(i)}) - y^{(i)})x_{j}^{(i)}  +  \\frac{\\lambda}{m} w_j \\tag{2} \\\\\n",
        "\\frac{\\partial J(\\mathbf{w},b)}{\\partial b}  &= \\frac{1}{m} \\sum\\limits_{i = 0}^{m-1} (h(\\mathbf{x}^{(i)}) - y^{(i)}) \\tag{3}\n",
        "\\end{align*}$$\n",
        "\n",
        "* m is the number of training examples in the data set      \n",
        "* $h(x^{(i)})$ is the model's prediction, while $y^{(i)}$ is the target\n",
        "\n",
        "      \n",
        "* For a  <span style=\"color:blue\"> **linear** </span> regression model  \n",
        "    $h(x) = \\mathbf{w} \\cdot \\mathbf{x} + b$  \n",
        "* For a <span style=\"color:blue\"> **logistic** </span> regression model  \n",
        "    $z = \\mathbf{w} \\cdot \\mathbf{x} + b$  \n",
        "    $h(x) = g(z)$  \n",
        "    where $g(z)$ is the sigmoid function:  \n",
        "    $g(z) = \\frac{1}{1+e^{-z}}$   \n",
        "    \n",
        "The term which adds regularization is  the <span style=\"color:blue\">$\\frac{\\lambda}{m} w_j $</span>."
      ]
    },
    {
      "cell_type": "markdown",
      "id": "7yqJHh94BTe0",
      "metadata": {
        "id": "7yqJHh94BTe0",
        "pycharm": {
          "name": "#%% md\n"
        }
      },
      "source": [
        "### Gradient function for regularized linear regression"
      ]
    },
    {
      "cell_type": "code",
      "execution_count": null,
      "id": "i6GdZ6UwBTe0",
      "metadata": {
        "id": "i6GdZ6UwBTe0",
        "pycharm": {
          "name": "#%%\n"
        }
      },
      "outputs": [],
      "source": [
        "def compute_gradient_linear_reg(X, y, w, b, lambda_):\n",
        "    \"\"\"\n",
        "    Computes the gradient for linear regression\n",
        "    Args:\n",
        "      X (ndarray (m,n): Data, m examples with n features\n",
        "      y (ndarray (m,)): target values\n",
        "      w (ndarray (n,)): model parameters\n",
        "      b (scalar)      : model parameter\n",
        "      lambda_ (scalar): Controls amount of regularization\n",
        "\n",
        "    Returns:\n",
        "      dj_dw (ndarray (n,)): The gradient of the cost w.r.t. the parameters w.\n",
        "      dj_db (scalar):       The gradient of the cost w.r.t. the parameter b.\n",
        "    \"\"\"\n",
        "    m,n = X.shape\n",
        "    dj_dw = np.zeros((n,))\n",
        "    dj_db = 0.\n",
        "\n",
        "    for i in range(m):\n",
        "        err = (np.dot(X[i], w) + b) - y[i]\n",
        "        for j in range(n):\n",
        "            dj_dw[j] = dj_dw[j] + err * X[i, j]\n",
        "        dj_db = dj_db + err\n",
        "    dj_dw = dj_dw / m\n",
        "    dj_db = dj_db / m\n",
        "\n",
        "\n",
        "    ###############################\n",
        "    # Update weights with regularization\n",
        "    for j in range(n):\n",
        "        dj_dw[j] =\n",
        "\n",
        "\n",
        "    return dj_db, dj_dw"
      ]
    },
    {
      "cell_type": "markdown",
      "id": "o2jj6tdTBTe1",
      "metadata": {
        "id": "o2jj6tdTBTe1",
        "pycharm": {
          "name": "#%% md\n"
        }
      },
      "source": [
        "Run the cell below to see it in action."
      ]
    },
    {
      "cell_type": "code",
      "execution_count": null,
      "id": "Gilgxi7TBTe1",
      "metadata": {
        "colab": {
          "base_uri": "https://localhost:8080/"
        },
        "id": "Gilgxi7TBTe1",
        "outputId": "987f3783-b0a8-4d80-d390-989065e8adcc",
        "pycharm": {
          "name": "#%%\n"
        }
      },
      "outputs": [
        {
          "name": "stdout",
          "output_type": "stream",
          "text": [
            "dj_db: 0.6648774569425726\n",
            "Regularized dj_dw:\n",
            " [0.29653214748822276, 0.4911679625918033, 0.21645877535865857]\n"
          ]
        }
      ],
      "source": [
        "np.random.seed(1)\n",
        "X_tmp = np.random.rand(5,3)\n",
        "y_tmp = np.array([0,1,0,1,0])\n",
        "w_tmp = np.random.rand(X_tmp.shape[1])\n",
        "b_tmp = 0.5\n",
        "lambda_tmp = 0.7\n",
        "dj_db_tmp, dj_dw_tmp =  compute_gradient_linear_reg(X_tmp, y_tmp, w_tmp, b_tmp, lambda_tmp)\n",
        "\n",
        "print(f\"dj_db: {dj_db_tmp}\", )\n",
        "print(f\"Regularized dj_dw:\\n {dj_dw_tmp.tolist()}\", )"
      ]
    },
    {
      "cell_type": "markdown",
      "id": "7L9glto2BTe1",
      "metadata": {
        "id": "7L9glto2BTe1",
        "pycharm": {
          "name": "#%% md\n"
        }
      },
      "source": [
        "**Expected Output**\n",
        "```\n",
        "dj_db: 0.6648774569425726\n",
        "Regularized dj_dw:\n",
        " [0.29653214748822276, 0.4911679625918033, 0.21645877535865857]\n",
        " ```"
      ]
    },
    {
      "cell_type": "markdown",
      "id": "dhM-1WTsBTe1",
      "metadata": {
        "id": "dhM-1WTsBTe1",
        "pycharm": {
          "name": "#%% md\n"
        }
      },
      "source": [
        "### Gradient function for regularized logistic regression"
      ]
    },
    {
      "cell_type": "code",
      "execution_count": null,
      "id": "kPLvRxvwBTe1",
      "metadata": {
        "id": "kPLvRxvwBTe1",
        "pycharm": {
          "name": "#%%\n"
        }
      },
      "outputs": [],
      "source": [
        "def compute_gradient_logistic_reg(X, y, w, b, lambda_):\n",
        "    \"\"\"\n",
        "    Computes the gradient for linear regression\n",
        "\n",
        "    Args:\n",
        "      X (ndarray (m,n): Data, m examples with n features\n",
        "      y (ndarray (m,)): target values\n",
        "      w (ndarray (n,)): model parameters\n",
        "      b (scalar)      : model parameter\n",
        "      lambda_ (scalar): Controls amount of regularization\n",
        "    Returns\n",
        "      dj_dw (ndarray Shape (n,)): The gradient of the cost w.r.t. the parameters w.\n",
        "      dj_db (scalar)            : The gradient of the cost w.r.t. the parameter b.\n",
        "    \"\"\"\n",
        "    m,n = X.shape\n",
        "    dj_dw = np.zeros((n,))\n",
        "    dj_db = 0.0\n",
        "\n",
        "    for i in range(m):\n",
        "        err_i  = sigmoid(np.dot(X[i],w) + b)  - y[i]\n",
        "        for j in range(n):\n",
        "            dj_dw[j] = dj_dw[j] + err_i * X[i,j]\n",
        "        dj_db = dj_db + err_i\n",
        "    dj_dw = dj_dw/m\n",
        "    dj_db = dj_db/m\n",
        "\n",
        "\n",
        "    ###############################\n",
        "    # Update weights with regularization\n",
        "    for j in range(n):\n",
        "        dj_dw[j] =\n",
        "\n",
        "\n",
        "    return dj_db, dj_dw\n"
      ]
    },
    {
      "cell_type": "markdown",
      "id": "ouej_eh_BTe2",
      "metadata": {
        "id": "ouej_eh_BTe2",
        "pycharm": {
          "name": "#%% md\n"
        }
      },
      "source": [
        "Run the cell below to see it in action."
      ]
    },
    {
      "cell_type": "code",
      "execution_count": null,
      "id": "a9waKDTWBTe2",
      "metadata": {
        "colab": {
          "base_uri": "https://localhost:8080/"
        },
        "id": "a9waKDTWBTe2",
        "outputId": "0986f996-bcba-4db4-b13a-7dc2c7f39fe0",
        "pycharm": {
          "name": "#%%\n"
        }
      },
      "outputs": [
        {
          "name": "stdout",
          "output_type": "stream",
          "text": [
            "dj_db: 0.341798994972791\n",
            "Regularized dj_dw:\n",
            " [0.17380012933994293, 0.32007507881566943, 0.10776313396851499]\n"
          ]
        }
      ],
      "source": [
        "np.random.seed(1)\n",
        "X_tmp = np.random.rand(5,3)\n",
        "y_tmp = np.array([0,1,0,1,0])\n",
        "w_tmp = np.random.rand(X_tmp.shape[1])\n",
        "b_tmp = 0.5\n",
        "lambda_tmp = 0.7\n",
        "dj_db_tmp, dj_dw_tmp =  compute_gradient_logistic_reg(X_tmp, y_tmp, w_tmp, b_tmp, lambda_tmp)\n",
        "\n",
        "print(f\"dj_db: {dj_db_tmp}\", )\n",
        "print(f\"Regularized dj_dw:\\n {dj_dw_tmp.tolist()}\", )"
      ]
    },
    {
      "cell_type": "markdown",
      "id": "M76TaLk-BTe3",
      "metadata": {
        "id": "M76TaLk-BTe3",
        "pycharm": {
          "name": "#%% md\n"
        }
      },
      "source": [
        "**Expected Output**\n",
        "```\n",
        "dj_db: 0.341798994972791\n",
        "Regularized dj_dw:\n",
        " [0.17380012933994293, 0.32007507881566943, 0.10776313396851499]\n",
        " ```"
      ]
    },
    {
      "cell_type": "markdown",
      "id": "lDPPjXDbBTe4",
      "metadata": {
        "id": "lDPPjXDbBTe4",
        "pycharm": {
          "name": "#%% md\n"
        }
      },
      "source": [
        "## Congratulations!\n",
        "You have implemented examples of cost and gradient routines with regularization added for both linear and logistic regression"
      ]
    }
  ],
  "metadata": {
    "colab": {
      "provenance": []
    },
    "kernelspec": {
      "display_name": "Python 3",
      "language": "python",
      "name": "python3"
    },
    "language_info": {
      "codemirror_mode": {
        "name": "ipython",
        "version": 3
      },
      "file_extension": ".py",
      "mimetype": "text/x-python",
      "name": "python",
      "nbconvert_exporter": "python",
      "pygments_lexer": "ipython3",
      "version": "3.12.6"
    }
  },
  "nbformat": 4,
  "nbformat_minor": 5
}
